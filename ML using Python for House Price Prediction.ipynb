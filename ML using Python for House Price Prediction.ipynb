{
 "cells": [
  {
   "cell_type": "code",
   "execution_count": 1,
   "id": "01184cdf",
   "metadata": {},
   "outputs": [
    {
     "name": "stdout",
     "output_type": "stream",
     "text": [
      "Total execution time (in sec) 0.04659295082092285\n"
     ]
    }
   ],
   "source": [
    "import pandas as pd\n",
    "import warnings\n",
    "from sklearn import linear_model\n",
    "from sklearn.preprocessing import LabelEncoder\n",
    "from sklearn.model_selection import train_test_split\n",
    "import time as t\n",
    "\n",
    "start = t.time()\n",
    "\n",
    "warnings.filterwarnings(\"ignore\")\n",
    "\n",
    "df = pd.read_csv('E:/house_price.csv')     # Loading the data\n",
    "\n",
    "encoder = LabelEncoder()          # Label encoder is used to convert categorical value into numerical value\n",
    "numerical_labels = encoder.fit_transform(df['house type'])\n",
    "df['house_type_id'] = numerical_labels\n",
    "\n",
    "features = df[['house_type_id' , 'area' , 'age', 'bedrooms', 'bathrooms']]\n",
    "label = df['price']\n",
    "\n",
    "regression = linear_model.LinearRegression()    # Importing the ML algo\n",
    "\n",
    "# Spliting the dataset into train and test.\n",
    "feature_train , feature_test , label_train , label_test = train_test_split(features , label , test_size = 0.10 , random_state = 10)\n",
    "\n",
    "regression.fit(feature_train , label_train)      #Training the model.\n",
    "\n",
    "on_test = regression.predict(feature_test)     # Predicting the data using test dataset\n",
    "\n",
    "regression.score(feature_test , label_test)    # Evaluating the model\n",
    "\n",
    "end = t.time()\n",
    "\n",
    "print('Total execution time (in sec)', (end-start))"
   ]
  },
  {
   "cell_type": "code",
   "execution_count": null,
   "id": "ba8b129c",
   "metadata": {},
   "outputs": [],
   "source": []
  }
 ],
 "metadata": {
  "kernelspec": {
   "display_name": "Python 3 (ipykernel)",
   "language": "python",
   "name": "python3"
  },
  "language_info": {
   "codemirror_mode": {
    "name": "ipython",
    "version": 3
   },
   "file_extension": ".py",
   "mimetype": "text/x-python",
   "name": "python",
   "nbconvert_exporter": "python",
   "pygments_lexer": "ipython3",
   "version": "3.10.9"
  }
 },
 "nbformat": 4,
 "nbformat_minor": 5
}
